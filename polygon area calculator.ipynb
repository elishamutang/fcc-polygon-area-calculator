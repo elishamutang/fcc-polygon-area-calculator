{
 "cells": [
  {
   "cell_type": "code",
   "execution_count": 17,
   "metadata": {},
   "outputs": [],
   "source": [
    "class Rectangle:\n",
    "\n",
    "    def __init__(self, width, height):\n",
    "        self.width = width\n",
    "        self.height = height\n",
    "\n",
    "    def set_width(self, new_width):\n",
    "        self.width = new_width\n",
    "        return new_width\n",
    "\n",
    "    def set_height(self, new_height):\n",
    "        self.height = new_height\n",
    "        return new_height\n",
    "\n",
    "    def get_area(self):\n",
    "        area = self.width*self.height\n",
    "        return area\n",
    "    \n",
    "    def get_perimeter(self):\n",
    "        return 2 * self.width + 2 * self.height\n",
    "    \n",
    "    def get_diagonal(self):\n",
    "        return ((self.width ** 2 + self.height **2) ** .5)\n",
    "    \n",
    "    def get_picture(self):\n",
    "        lines = []\n",
    "        if self.width > 50 or self.height > 50:\n",
    "            return \"Too big for picture.\"\n",
    "        else:\n",
    "            for i in range(0, self.height, 1):\n",
    "                line = \"*\" * self.width\n",
    "                lines.append(line)\n",
    "        return \"\\n\".join(lines)\n",
    "                        \n",
    "\n",
    "    def get_amount_inside(self, shape):\n",
    "        self.shape = shape #Polygon object\n",
    "        amt_inside = 0\n",
    "        if self.get_area() >= shape.get_area():\n",
    "            amt_inside = self.get_area() // shape.get_area() # // rounds down the value from 8.0 to 8\n",
    "            return amt_inside\n",
    "        else:\n",
    "            return \"Not enough\"\n",
    "    \n",
    "    def __repr__(self):\n",
    "        \"\"\"Return a string representation of the object\"\"\"\n",
    "        return f\"Rectangle(width={self.width}, height={self.height})\"\n",
    "\n",
    "class Square(Rectangle):\n",
    "\n",
    "    def __init__(self, side_length):\n",
    "        self.side_length = side_length\n",
    "        self.width = side_length\n",
    "        self.height = side_length\n",
    "    \n",
    "    def set_side(self, side):\n",
    "        self.side = side\n",
    "        self.width = side\n",
    "        self.height = side\n",
    "        if self.set_width is True or self.set_height is True:\n",
    "            return side\n",
    "    \n",
    "    def __repr__(self) -> str:\n",
    "        return f\"Square(side={self.side})\""
   ]
  },
  {
   "cell_type": "code",
   "execution_count": 19,
   "metadata": {},
   "outputs": [
    {
     "name": "stdout",
     "output_type": "stream",
     "text": [
      "50\n",
      "26\n",
      "Rectangle(width=10, height=3)\n",
      "**********\n",
      "**********\n",
      "**********\n",
      "81\n",
      "5.656854249492381\n",
      "Square(side=4)\n",
      "****\n",
      "****\n",
      "****\n",
      "****\n",
      "1\n"
     ]
    }
   ],
   "source": [
    "rect = Rectangle(10, 5)\n",
    "print(rect.get_area())\n",
    "rect.set_height(3)\n",
    "print(rect.get_perimeter())\n",
    "print(rect)\n",
    "print(rect.get_picture())\n",
    "\n",
    "sq = Square(9)\n",
    "print(sq.get_area())\n",
    "sq.set_side(4)\n",
    "print(sq.get_diagonal())\n",
    "print(sq)\n",
    "print(sq.get_picture())\n",
    "\n",
    "rect.set_height(7)\n",
    "rect.set_width(3)\n",
    "print(rect.get_amount_inside(sq))"
   ]
  },
  {
   "cell_type": "code",
   "execution_count": 20,
   "metadata": {},
   "outputs": [
    {
     "name": "stdout",
     "output_type": "stream",
     "text": [
      "{'side_length': 9, 'width': 4, 'height': 4, 'side': 4}\n"
     ]
    }
   ],
   "source": [
    "print(sq.__dict__)"
   ]
  },
  {
   "cell_type": "code",
   "execution_count": null,
   "metadata": {},
   "outputs": [],
   "source": []
  }
 ],
 "metadata": {
  "kernelspec": {
   "display_name": "Python 3",
   "language": "python",
   "name": "python3"
  },
  "language_info": {
   "codemirror_mode": {
    "name": "ipython",
    "version": 3
   },
   "file_extension": ".py",
   "mimetype": "text/x-python",
   "name": "python",
   "nbconvert_exporter": "python",
   "pygments_lexer": "ipython3",
   "version": "3.11.4"
  },
  "orig_nbformat": 4
 },
 "nbformat": 4,
 "nbformat_minor": 2
}
